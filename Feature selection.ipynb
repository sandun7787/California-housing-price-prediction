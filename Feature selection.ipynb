{
 "cells": [
  {
   "cell_type": "code",
   "execution_count": 1,
   "id": "8bba6a19-161c-4c81-9315-cff17dcd1f67",
   "metadata": {},
   "outputs": [],
   "source": [
    "import pandas as pd\n",
    "import matplotlib.pyplot as plt"
   ]
  },
  {
   "cell_type": "code",
   "execution_count": 17,
   "id": "dc99405e-b9b6-43d5-9fc7-d9fe38e5cb9f",
   "metadata": {},
   "outputs": [],
   "source": [
    "from sklearn.datasets import make_regression\n",
    "X,y=make_regression(n_samples=50,n_features=5)"
   ]
  },
  {
   "cell_type": "code",
   "execution_count": 18,
   "id": "c3f6e15d-42af-4257-8d9e-66e19d1482ed",
   "metadata": {},
   "outputs": [
    {
     "data": {
      "text/plain": [
       "array([[ 1.37326673e-01,  5.21457785e-01, -7.02000992e-01,\n",
       "         1.29326586e+00,  1.23210522e+00],\n",
       "       [-6.53658749e-01,  1.10812874e+00,  2.60377541e-01,\n",
       "         8.59853968e-01,  4.71780301e-01],\n",
       "       [-9.61949796e-02,  2.16357800e-01, -5.64612848e-01,\n",
       "         6.12343690e-01,  1.74397498e+00],\n",
       "       [ 4.85388818e-01, -4.09595578e-01, -1.61685200e+00,\n",
       "         2.06650643e-01,  1.38614579e-01],\n",
       "       [ 1.72391586e+00, -6.80653799e-01,  5.10540783e-01,\n",
       "         1.49152956e+00, -3.62809751e-01],\n",
       "       [-1.17979239e+00,  2.78204781e+00, -8.24830460e-01,\n",
       "        -8.85928822e-01, -8.39159502e-01],\n",
       "       [-3.53014401e-01, -1.02062062e+00, -7.07556663e-01,\n",
       "        -1.86093371e+00, -1.41768574e+00],\n",
       "       [-7.09362026e-01, -1.33060970e+00,  1.41815307e+00,\n",
       "        -3.47948857e-01,  2.31840393e-01],\n",
       "       [-2.46187708e+00,  1.83522181e+00,  1.89557076e-01,\n",
       "        -9.61671568e-01, -7.96922529e-01],\n",
       "       [-1.12594850e+00,  4.72352173e-01, -1.80951603e+00,\n",
       "        -5.91279164e-02,  8.46590335e-02],\n",
       "       [-7.41977093e-01, -1.36074157e+00,  1.52161949e+00,\n",
       "        -3.14388972e+00,  9.93088032e-01],\n",
       "       [-1.59839613e+00,  4.58347315e-01,  6.89296288e-01,\n",
       "         6.89912831e-02, -1.52106682e-01],\n",
       "       [ 2.08089883e-01,  7.97607687e-01,  2.52648016e-01,\n",
       "        -1.13351001e+00,  9.02621166e-01],\n",
       "       [ 9.71672914e-01, -2.20392690e+00,  6.76721782e-01,\n",
       "        -1.38103409e-02,  2.62354429e-01],\n",
       "       [ 1.82689958e+00, -3.22311979e-02,  1.98811839e+00,\n",
       "        -8.79562458e-01, -5.70556690e-01],\n",
       "       [-4.75770980e-01, -5.19278312e-02,  9.19458834e-01,\n",
       "        -1.25258814e+00, -2.56959110e-01],\n",
       "       [-1.06872681e+00, -1.15058366e+00, -5.90510242e-01,\n",
       "         1.71603276e-01,  3.26688094e-02],\n",
       "       [ 7.95510252e-01, -4.00765499e-01, -1.52445964e+00,\n",
       "         7.10544053e-01,  2.54523921e-01],\n",
       "       [-4.82243328e-01, -4.35791509e-01,  1.88530197e+00,\n",
       "        -1.13946673e+00,  1.59495974e+00],\n",
       "       [ 7.68706218e-01,  7.48996035e-01,  6.42267556e-01,\n",
       "        -1.80354442e-01, -8.99055509e-01],\n",
       "       [ 9.15349343e-01,  1.10955906e+00,  3.89520935e-03,\n",
       "         2.80178229e-01,  1.15579215e-01],\n",
       "       [ 1.16651705e+00,  2.43802389e-01, -1.47645156e+00,\n",
       "         1.94435923e-01, -3.57277438e-01],\n",
       "       [-5.56198841e-01,  4.70130676e-01, -4.73545828e-01,\n",
       "        -4.38205540e-01,  1.22685621e-01],\n",
       "       [ 1.44938963e+00,  1.53970016e-01, -1.95139321e+00,\n",
       "        -1.24131596e-01, -1.64912653e+00],\n",
       "       [-3.46451136e-01,  1.54188981e+00,  1.10376524e+00,\n",
       "         1.56865543e+00, -5.27132923e-01],\n",
       "       [ 7.08490639e-01, -1.43707040e+00,  1.06329953e+00,\n",
       "         4.11209707e-01, -6.53360585e-02],\n",
       "       [ 8.50194075e-01,  1.82439696e-01,  1.36908336e+00,\n",
       "        -8.08456003e-01, -3.66344351e-02],\n",
       "       [ 4.49760337e-01,  2.84715784e-01,  6.82215695e-01,\n",
       "         5.17095668e-01, -2.40019423e-01],\n",
       "       [-3.33081421e-01, -2.02153817e+00, -6.12298264e-01,\n",
       "         2.47545891e-01,  5.94755787e-01],\n",
       "       [-8.22239470e-01, -9.70003442e-02,  5.39014310e-01,\n",
       "         1.07335342e+00,  1.23779191e+00],\n",
       "       [-1.22155431e+00,  1.39837563e-01,  8.15099736e-01,\n",
       "         3.70775493e-01, -2.19895691e+00],\n",
       "       [-6.82746893e-02, -2.98615008e-01,  3.14911594e-01,\n",
       "         2.38558583e-01,  6.13790735e-01],\n",
       "       [-1.74942807e+00,  6.10035592e-01, -4.89322179e-01,\n",
       "         1.73630046e-01, -2.67386196e-01],\n",
       "       [-1.73645386e-01,  2.32063031e+00,  6.60705992e-01,\n",
       "        -5.14096887e-01,  5.70105030e-01],\n",
       "       [-1.79875899e+00, -8.44351018e-01, -1.13856664e+00,\n",
       "         2.06466575e-01, -3.07670477e-01],\n",
       "       [ 1.53470250e+00, -4.84623622e-01,  5.28544619e-01,\n",
       "         6.42582287e-02, -2.55866675e-03],\n",
       "       [-7.91861407e-03, -1.66135185e-01,  4.97092576e-01,\n",
       "        -2.54817689e+00,  2.27381037e+00],\n",
       "       [ 7.11297861e-01,  5.03743920e-01,  1.42847804e+00,\n",
       "        -3.28216614e+00,  1.95074066e-01],\n",
       "       [-1.11928952e+00, -1.19837870e+00, -1.23619615e+00,\n",
       "        -2.00439379e-01,  1.56410788e-01],\n",
       "       [-2.53505827e+00, -1.32499860e+00,  1.51537307e+00,\n",
       "        -1.47730567e-01,  2.80823700e-01],\n",
       "       [ 2.46608259e-02,  1.51210421e+00,  7.19704567e-02,\n",
       "        -1.49923280e-01,  2.01917872e+00],\n",
       "       [-3.31040220e-01,  7.01528010e-01, -2.22489644e-01,\n",
       "         1.97948325e-01,  2.43952933e-01],\n",
       "       [-6.23546010e-01,  3.51031872e-02,  2.35907805e-01,\n",
       "         1.15944043e-01,  2.42433784e-01],\n",
       "       [-2.97524079e-01,  9.28926282e-02,  2.21949828e-01,\n",
       "         8.32408627e-01, -8.86575463e-01],\n",
       "       [ 1.30293827e+00, -2.04904786e+00, -3.32862731e-02,\n",
       "        -1.95983579e-01, -1.29981728e-01],\n",
       "       [-1.16831789e-01, -9.99993370e-01, -4.95903836e-02,\n",
       "        -1.45637275e-01, -7.83047144e-01],\n",
       "       [-2.02826342e+00, -1.41008972e+00, -2.09597298e+00,\n",
       "         4.67123721e-01,  5.50876146e-01],\n",
       "       [-1.80149320e-01, -4.77345092e-01, -7.54256067e-02,\n",
       "        -9.75556705e-01, -1.30285935e+00],\n",
       "       [-5.69318698e-01, -3.55188755e-01, -1.27925670e+00,\n",
       "        -1.33720645e+00,  2.41720730e+00],\n",
       "       [-6.96084643e-02,  4.82808902e-01, -1.31976234e+00,\n",
       "        -1.31443022e-01, -1.59243791e+00]])"
      ]
     },
     "execution_count": 18,
     "metadata": {},
     "output_type": "execute_result"
    }
   ],
   "source": [
    "X"
   ]
  },
  {
   "cell_type": "code",
   "execution_count": 19,
   "id": "83e8a2aa-a95b-4489-9f87-5c11c58cd445",
   "metadata": {},
   "outputs": [],
   "source": [
    "X=pd.DataFrame(X)"
   ]
  },
  {
   "cell_type": "code",
   "execution_count": 20,
   "id": "67f1af54-9a3e-4605-901c-7e3241f34e22",
   "metadata": {},
   "outputs": [
    {
     "data": {
      "text/html": [
       "<div>\n",
       "<style scoped>\n",
       "    .dataframe tbody tr th:only-of-type {\n",
       "        vertical-align: middle;\n",
       "    }\n",
       "\n",
       "    .dataframe tbody tr th {\n",
       "        vertical-align: top;\n",
       "    }\n",
       "\n",
       "    .dataframe thead th {\n",
       "        text-align: right;\n",
       "    }\n",
       "</style>\n",
       "<table border=\"1\" class=\"dataframe\">\n",
       "  <thead>\n",
       "    <tr style=\"text-align: right;\">\n",
       "      <th></th>\n",
       "      <th>0</th>\n",
       "      <th>1</th>\n",
       "      <th>2</th>\n",
       "      <th>3</th>\n",
       "      <th>4</th>\n",
       "    </tr>\n",
       "  </thead>\n",
       "  <tbody>\n",
       "    <tr>\n",
       "      <th>0</th>\n",
       "      <td>0.137327</td>\n",
       "      <td>0.521458</td>\n",
       "      <td>-0.702001</td>\n",
       "      <td>1.293266</td>\n",
       "      <td>1.232105</td>\n",
       "    </tr>\n",
       "    <tr>\n",
       "      <th>1</th>\n",
       "      <td>-0.653659</td>\n",
       "      <td>1.108129</td>\n",
       "      <td>0.260378</td>\n",
       "      <td>0.859854</td>\n",
       "      <td>0.471780</td>\n",
       "    </tr>\n",
       "    <tr>\n",
       "      <th>2</th>\n",
       "      <td>-0.096195</td>\n",
       "      <td>0.216358</td>\n",
       "      <td>-0.564613</td>\n",
       "      <td>0.612344</td>\n",
       "      <td>1.743975</td>\n",
       "    </tr>\n",
       "    <tr>\n",
       "      <th>3</th>\n",
       "      <td>0.485389</td>\n",
       "      <td>-0.409596</td>\n",
       "      <td>-1.616852</td>\n",
       "      <td>0.206651</td>\n",
       "      <td>0.138615</td>\n",
       "    </tr>\n",
       "    <tr>\n",
       "      <th>4</th>\n",
       "      <td>1.723916</td>\n",
       "      <td>-0.680654</td>\n",
       "      <td>0.510541</td>\n",
       "      <td>1.491530</td>\n",
       "      <td>-0.362810</td>\n",
       "    </tr>\n",
       "  </tbody>\n",
       "</table>\n",
       "</div>"
      ],
      "text/plain": [
       "          0         1         2         3         4\n",
       "0  0.137327  0.521458 -0.702001  1.293266  1.232105\n",
       "1 -0.653659  1.108129  0.260378  0.859854  0.471780\n",
       "2 -0.096195  0.216358 -0.564613  0.612344  1.743975\n",
       "3  0.485389 -0.409596 -1.616852  0.206651  0.138615\n",
       "4  1.723916 -0.680654  0.510541  1.491530 -0.362810"
      ]
     },
     "execution_count": 20,
     "metadata": {},
     "output_type": "execute_result"
    }
   ],
   "source": [
    "X.head()"
   ]
  },
  {
   "cell_type": "code",
   "execution_count": 6,
   "id": "914782a3-fe40-4362-bcdb-5970009ae390",
   "metadata": {},
   "outputs": [
    {
     "data": {
      "text/plain": [
       "array([ -78.33405848, -395.93542481,   -5.25204341,  156.68604714,\n",
       "         16.3178543 ])"
      ]
     },
     "execution_count": 6,
     "metadata": {},
     "output_type": "execute_result"
    }
   ],
   "source": [
    "y[:5]"
   ]
  },
  {
   "cell_type": "code",
   "execution_count": 10,
   "id": "5a86998f-2c9a-4304-8fa9-9f9b07fc6427",
   "metadata": {},
   "outputs": [],
   "source": [
    "from sklearn.feature_selection import mutual_info_regression\n",
    "from sklearn.feature_selection import SelectKBest"
   ]
  },
  {
   "cell_type": "code",
   "execution_count": 21,
   "id": "cefe1209-a703-4709-bdca-835196ba7a7e",
   "metadata": {},
   "outputs": [
    {
     "data": {
      "text/html": [
       "<style>#sk-container-id-2 {color: black;}#sk-container-id-2 pre{padding: 0;}#sk-container-id-2 div.sk-toggleable {background-color: white;}#sk-container-id-2 label.sk-toggleable__label {cursor: pointer;display: block;width: 100%;margin-bottom: 0;padding: 0.3em;box-sizing: border-box;text-align: center;}#sk-container-id-2 label.sk-toggleable__label-arrow:before {content: \"▸\";float: left;margin-right: 0.25em;color: #696969;}#sk-container-id-2 label.sk-toggleable__label-arrow:hover:before {color: black;}#sk-container-id-2 div.sk-estimator:hover label.sk-toggleable__label-arrow:before {color: black;}#sk-container-id-2 div.sk-toggleable__content {max-height: 0;max-width: 0;overflow: hidden;text-align: left;background-color: #f0f8ff;}#sk-container-id-2 div.sk-toggleable__content pre {margin: 0.2em;color: black;border-radius: 0.25em;background-color: #f0f8ff;}#sk-container-id-2 input.sk-toggleable__control:checked~div.sk-toggleable__content {max-height: 200px;max-width: 100%;overflow: auto;}#sk-container-id-2 input.sk-toggleable__control:checked~label.sk-toggleable__label-arrow:before {content: \"▾\";}#sk-container-id-2 div.sk-estimator input.sk-toggleable__control:checked~label.sk-toggleable__label {background-color: #d4ebff;}#sk-container-id-2 div.sk-label input.sk-toggleable__control:checked~label.sk-toggleable__label {background-color: #d4ebff;}#sk-container-id-2 input.sk-hidden--visually {border: 0;clip: rect(1px 1px 1px 1px);clip: rect(1px, 1px, 1px, 1px);height: 1px;margin: -1px;overflow: hidden;padding: 0;position: absolute;width: 1px;}#sk-container-id-2 div.sk-estimator {font-family: monospace;background-color: #f0f8ff;border: 1px dotted black;border-radius: 0.25em;box-sizing: border-box;margin-bottom: 0.5em;}#sk-container-id-2 div.sk-estimator:hover {background-color: #d4ebff;}#sk-container-id-2 div.sk-parallel-item::after {content: \"\";width: 100%;border-bottom: 1px solid gray;flex-grow: 1;}#sk-container-id-2 div.sk-label:hover label.sk-toggleable__label {background-color: #d4ebff;}#sk-container-id-2 div.sk-serial::before {content: \"\";position: absolute;border-left: 1px solid gray;box-sizing: border-box;top: 0;bottom: 0;left: 50%;z-index: 0;}#sk-container-id-2 div.sk-serial {display: flex;flex-direction: column;align-items: center;background-color: white;padding-right: 0.2em;padding-left: 0.2em;position: relative;}#sk-container-id-2 div.sk-item {position: relative;z-index: 1;}#sk-container-id-2 div.sk-parallel {display: flex;align-items: stretch;justify-content: center;background-color: white;position: relative;}#sk-container-id-2 div.sk-item::before, #sk-container-id-2 div.sk-parallel-item::before {content: \"\";position: absolute;border-left: 1px solid gray;box-sizing: border-box;top: 0;bottom: 0;left: 50%;z-index: -1;}#sk-container-id-2 div.sk-parallel-item {display: flex;flex-direction: column;z-index: 1;position: relative;background-color: white;}#sk-container-id-2 div.sk-parallel-item:first-child::after {align-self: flex-end;width: 50%;}#sk-container-id-2 div.sk-parallel-item:last-child::after {align-self: flex-start;width: 50%;}#sk-container-id-2 div.sk-parallel-item:only-child::after {width: 0;}#sk-container-id-2 div.sk-dashed-wrapped {border: 1px dashed gray;margin: 0 0.4em 0.5em 0.4em;box-sizing: border-box;padding-bottom: 0.4em;background-color: white;}#sk-container-id-2 div.sk-label label {font-family: monospace;font-weight: bold;display: inline-block;line-height: 1.2em;}#sk-container-id-2 div.sk-label-container {text-align: center;}#sk-container-id-2 div.sk-container {/* jupyter's `normalize.less` sets `[hidden] { display: none; }` but bootstrap.min.css set `[hidden] { display: none !important; }` so we also need the `!important` here to be able to override the default hidden behavior on the sphinx rendered scikit-learn.org. See: https://github.com/scikit-learn/scikit-learn/issues/21755 */display: inline-block !important;position: relative;}#sk-container-id-2 div.sk-text-repr-fallback {display: none;}</style><div id=\"sk-container-id-2\" class=\"sk-top-container\"><div class=\"sk-text-repr-fallback\"><pre>SelectKBest(k=3,\n",
       "            score_func=&lt;function mutual_info_regression at 0x000001F71C8BAAC0&gt;)</pre><b>In a Jupyter environment, please rerun this cell to show the HTML representation or trust the notebook. <br />On GitHub, the HTML representation is unable to render, please try loading this page with nbviewer.org.</b></div><div class=\"sk-container\" hidden><div class=\"sk-item\"><div class=\"sk-estimator sk-toggleable\"><input class=\"sk-toggleable__control sk-hidden--visually\" id=\"sk-estimator-id-2\" type=\"checkbox\" checked><label for=\"sk-estimator-id-2\" class=\"sk-toggleable__label sk-toggleable__label-arrow\">SelectKBest</label><div class=\"sk-toggleable__content\"><pre>SelectKBest(k=3,\n",
       "            score_func=&lt;function mutual_info_regression at 0x000001F71C8BAAC0&gt;)</pre></div></div></div></div></div>"
      ],
      "text/plain": [
       "SelectKBest(k=3,\n",
       "            score_func=<function mutual_info_regression at 0x000001F71C8BAAC0>)"
      ]
     },
     "execution_count": 21,
     "metadata": {},
     "output_type": "execute_result"
    }
   ],
   "source": [
    "fs=SelectKBest(score_func=mutual_info_regression,k=3)\n",
    "fs.fit(X,y)"
   ]
  },
  {
   "cell_type": "code",
   "execution_count": 12,
   "id": "597bb42a-182b-49f9-bf2f-8d117d95b14b",
   "metadata": {},
   "outputs": [
    {
     "data": {
      "text/plain": [
       "array([0.09364078, 0.02963972, 0.17688098, 0.19755966, 0.09929939])"
      ]
     },
     "execution_count": 12,
     "metadata": {},
     "output_type": "execute_result"
    }
   ],
   "source": [
    "fs.scores_"
   ]
  },
  {
   "cell_type": "code",
   "execution_count": 27,
   "id": "e041ba91-2777-474c-882e-9bdc9f9e8632",
   "metadata": {},
   "outputs": [],
   "source": [
    "mi_score = pd.Series(fs.scores_,index=X.columns )"
   ]
  },
  {
   "cell_type": "code",
   "execution_count": 28,
   "id": "ba4f412b-5f5a-469d-9421-06c46c4f9efd",
   "metadata": {},
   "outputs": [
    {
     "data": {
      "text/plain": [
       "0    0.295136\n",
       "1    0.000000\n",
       "2    0.142312\n",
       "3    0.000000\n",
       "4    0.236804\n",
       "dtype: float64"
      ]
     },
     "execution_count": 28,
     "metadata": {},
     "output_type": "execute_result"
    }
   ],
   "source": [
    "mi_score"
   ]
  },
  {
   "cell_type": "code",
   "execution_count": 30,
   "id": "72b87017-659d-4f51-8d20-9c179a1eabf2",
   "metadata": {},
   "outputs": [
    {
     "data": {
      "text/plain": [
       "<Axes: >"
      ]
     },
     "execution_count": 30,
     "metadata": {},
     "output_type": "execute_result"
    },
    {
     "data": {
      "image/png": "[encoded data removed]",
      "text/plain": [
       "<Figure size 600x400 with 1 Axes>"
      ]
     },
     "metadata": {},
     "output_type": "display_data"
    }
   ],
   "source": [
    "mi_score.sort_values(ascending=False) . plot.bar(figsize=(6,4))"
   ]
  },
  {
   "cell_type": "code",
   "execution_count": 31,
   "id": "ae3eb510-c545-4310-bfd7-797944dc9d4c",
   "metadata": {},
   "outputs": [],
   "source": [
    "X_selected= fs.fit_transform(X,y)\n",
    "X_selected=pd.DataFrame(X_selected)"
   ]
  },
  {
   "cell_type": "code",
   "execution_count": 32,
   "id": "86775255-ed24-4873-85a5-b25085cc690c",
   "metadata": {},
   "outputs": [
    {
     "data": {
      "text/html": [
       "<div>\n",
       "<style scoped>\n",
       "    .dataframe tbody tr th:only-of-type {\n",
       "        vertical-align: middle;\n",
       "    }\n",
       "\n",
       "    .dataframe tbody tr th {\n",
       "        vertical-align: top;\n",
       "    }\n",
       "\n",
       "    .dataframe thead th {\n",
       "        text-align: right;\n",
       "    }\n",
       "</style>\n",
       "<table border=\"1\" class=\"dataframe\">\n",
       "  <thead>\n",
       "    <tr style=\"text-align: right;\">\n",
       "      <th></th>\n",
       "      <th>0</th>\n",
       "      <th>1</th>\n",
       "      <th>2</th>\n",
       "    </tr>\n",
       "  </thead>\n",
       "  <tbody>\n",
       "    <tr>\n",
       "      <th>0</th>\n",
       "      <td>0.137327</td>\n",
       "      <td>-0.702001</td>\n",
       "      <td>1.232105</td>\n",
       "    </tr>\n",
       "    <tr>\n",
       "      <th>1</th>\n",
       "      <td>-0.653659</td>\n",
       "      <td>0.260378</td>\n",
       "      <td>0.471780</td>\n",
       "    </tr>\n",
       "    <tr>\n",
       "      <th>2</th>\n",
       "      <td>-0.096195</td>\n",
       "      <td>-0.564613</td>\n",
       "      <td>1.743975</td>\n",
       "    </tr>\n",
       "    <tr>\n",
       "      <th>3</th>\n",
       "      <td>0.485389</td>\n",
       "      <td>-1.616852</td>\n",
       "      <td>0.138615</td>\n",
       "    </tr>\n",
       "    <tr>\n",
       "      <th>4</th>\n",
       "      <td>1.723916</td>\n",
       "      <td>0.510541</td>\n",
       "      <td>-0.362810</td>\n",
       "    </tr>\n",
       "  </tbody>\n",
       "</table>\n",
       "</div>"
      ],
      "text/plain": [
       "          0         1         2\n",
       "0  0.137327 -0.702001  1.232105\n",
       "1 -0.653659  0.260378  0.471780\n",
       "2 -0.096195 -0.564613  1.743975\n",
       "3  0.485389 -1.616852  0.138615\n",
       "4  1.723916  0.510541 -0.362810"
      ]
     },
     "execution_count": 32,
     "metadata": {},
     "output_type": "execute_result"
    }
   ],
   "source": [
    "X_selected.head()"
   ]
  },
  {
   "cell_type": "code",
   "execution_count": 34,
   "id": "c0a63a2e-ca7c-46dc-b3fc-be384252e253",
   "metadata": {},
   "outputs": [],
   "source": [
    "from sklearn.datasets import make_classification\n",
    "from sklearn.feature_selection import mutual_info_classif"
   ]
  },
  {
   "cell_type": "code",
   "execution_count": 37,
   "id": "fdfb1baf-e7b0-4fe9-a457-bd39696be450",
   "metadata": {},
   "outputs": [],
   "source": [
    "X, y = make_regression(n_samples=50, n_features=5,n_informative=2)\n",
    "X = pd.DataFrame(X)"
   ]
  },
  {
   "cell_type": "code",
   "execution_count": 38,
   "id": "a417ef43-3cbc-4501-b4e8-66a36b08ddf9",
   "metadata": {},
   "outputs": [
    {
     "data": {
      "text/html": [
       "<div>\n",
       "<style scoped>\n",
       "    .dataframe tbody tr th:only-of-type {\n",
       "        vertical-align: middle;\n",
       "    }\n",
       "\n",
       "    .dataframe tbody tr th {\n",
       "        vertical-align: top;\n",
       "    }\n",
       "\n",
       "    .dataframe thead th {\n",
       "        text-align: right;\n",
       "    }\n",
       "</style>\n",
       "<table border=\"1\" class=\"dataframe\">\n",
       "  <thead>\n",
       "    <tr style=\"text-align: right;\">\n",
       "      <th></th>\n",
       "      <th>0</th>\n",
       "      <th>1</th>\n",
       "      <th>2</th>\n",
       "      <th>3</th>\n",
       "      <th>4</th>\n",
       "    </tr>\n",
       "  </thead>\n",
       "  <tbody>\n",
       "    <tr>\n",
       "      <th>0</th>\n",
       "      <td>0.983552</td>\n",
       "      <td>0.878351</td>\n",
       "      <td>-0.719594</td>\n",
       "      <td>0.255891</td>\n",
       "      <td>-0.005075</td>\n",
       "    </tr>\n",
       "    <tr>\n",
       "      <th>1</th>\n",
       "      <td>-0.745819</td>\n",
       "      <td>-1.818345</td>\n",
       "      <td>-0.789885</td>\n",
       "      <td>2.854792</td>\n",
       "      <td>-0.049419</td>\n",
       "    </tr>\n",
       "    <tr>\n",
       "      <th>2</th>\n",
       "      <td>1.431553</td>\n",
       "      <td>0.105483</td>\n",
       "      <td>0.991951</td>\n",
       "      <td>-0.630336</td>\n",
       "      <td>-1.298618</td>\n",
       "    </tr>\n",
       "    <tr>\n",
       "      <th>3</th>\n",
       "      <td>-0.496372</td>\n",
       "      <td>-1.007507</td>\n",
       "      <td>1.147264</td>\n",
       "      <td>-0.094832</td>\n",
       "      <td>0.005429</td>\n",
       "    </tr>\n",
       "    <tr>\n",
       "      <th>4</th>\n",
       "      <td>-0.674361</td>\n",
       "      <td>1.689958</td>\n",
       "      <td>-0.157445</td>\n",
       "      <td>0.683677</td>\n",
       "      <td>0.734257</td>\n",
       "    </tr>\n",
       "  </tbody>\n",
       "</table>\n",
       "</div>"
      ],
      "text/plain": [
       "          0         1         2         3         4\n",
       "0  0.983552  0.878351 -0.719594  0.255891 -0.005075\n",
       "1 -0.745819 -1.818345 -0.789885  2.854792 -0.049419\n",
       "2  1.431553  0.105483  0.991951 -0.630336 -1.298618\n",
       "3 -0.496372 -1.007507  1.147264 -0.094832  0.005429\n",
       "4 -0.674361  1.689958 -0.157445  0.683677  0.734257"
      ]
     },
     "execution_count": 38,
     "metadata": {},
     "output_type": "execute_result"
    }
   ],
   "source": [
    "X.head()"
   ]
  },
  {
   "cell_type": "code",
   "execution_count": 50,
   "id": "6b99231a-8156-4802-b0d1-5dd47763860e",
   "metadata": {},
   "outputs": [
    {
     "data": {
      "text/plain": [
       "array([  70.12019401, -130.38325393,   23.46391976,  -73.19475279,\n",
       "        105.5148305 ])"
      ]
     },
     "execution_count": 50,
     "metadata": {},
     "output_type": "execute_result"
    }
   ],
   "source": [
    "y[:5]"
   ]
  },
  {
   "cell_type": "code",
   "execution_count": null,
   "id": "801717cb-9542-4be0-89d6-ef3db79fa841",
   "metadata": {},
   "outputs": [],
   "source": [
    "fs = SelectKBest(score_func=mutual_info_classif, k=3)\n",
    "fs.fit(X,y)\n",
    "mi_score = pd.Series(fs.scores_, index=X.columns)\n",
    "mi_score.sort_values(ascending=False).plot.bar(figsize=(6, 4))\n"
   ]
  },
  {
   "cell_type": "code",
   "execution_count": null,
   "id": "5a9a7ae8-1d10-43a2-9601-736ea017e4f1",
   "metadata": {},
   "outputs": [],
   "source": [
    "selected_X = fs.fit_transform(X,y)\n",
    "selected_X = pd.DataFrame(selected_X)"
   ]
  }
 ],
 "metadata": {
  "kernelspec": {
   "display_name": "Python 3 (ipykernel)",
   "language": "python",
   "name": "python3"
  },
  "language_info": {
   "codemirror_mode": {
    "name": "ipython",
    "version": 3
   },
   "file_extension": ".py",
   "mimetype": "text/x-python",
   "name": "python",
   "nbconvert_exporter": "python",
   "pygments_lexer": "ipython3",
   "version": "3.12.0"
  }
 },
 "nbformat": 4,
 "nbformat_minor": 5
}
