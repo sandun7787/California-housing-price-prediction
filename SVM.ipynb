{
 "cells": [
  {
   "cell_type": "markdown",
   "id": "5ad34055-ec6c-470c-8deb-3aa0285ca7ce",
   "metadata": {},
   "source": [
    "# Supprt oVector Machines (SVM)"
   ]
  },
  {
   "cell_type": "markdown",
   "id": "382701b0-62ea-4e47-bef1-cc18f7d9cab9",
   "metadata": {},
   "source": [
    "   - Powerful and versatile ML model \n",
    "        \n",
    "### SVM is capable of performing \n",
    "        - Linear Regression\n",
    "        - linear and nonlinear classification \n",
    "        - outlier detection \n",
    "### SVM is perticularlty suitable for complex but small or medium size data set"
   ]
  },
  {
   "cell_type": "markdown",
   "id": "7e035935-fb6e-4b37-abd5-e7a704d29aad",
   "metadata": {},
   "source": [
    "## Linear SVM Classification"
   ]
  },
  {
   "cell_type": "code",
   "execution_count": 2,
   "id": "a1afbc6a-073d-4ab7-8dbb-0bb46762f04a",
   "metadata": {},
   "outputs": [
    {
     "ename": "SyntaxError",
     "evalue": "invalid decimal literal (2773387499.py, line 1)",
     "output_type": "error",
     "traceback": [
      "\u001b[1;36m  Cell \u001b[1;32mIn[2], line 1\u001b[1;36m\u001b[0m\n\u001b[1;33m    Iris-Versicolor ![Untitled.jpeg](attachment:560014b7-af3a-4315-9834-08f1a7625da6.jpeg)\u001b[0m\n\u001b[1;37m                                                     ^\u001b[0m\n\u001b[1;31mSyntaxError\u001b[0m\u001b[1;31m:\u001b[0m invalid decimal literal\n"
     ]
    }
   ],
   "source": []
  },
  {
   "cell_type": "code",
   "execution_count": null,
   "id": "98854c5d-f19a-4846-8851-dae058e91579",
   "metadata": {},
   "outputs": [],
   "source": []
  }
 ],
 "metadata": {
  "kernelspec": {
   "display_name": "Python 3 (ipykernel)",
   "language": "python",
   "name": "python3"
  },
  "language_info": {
   "codemirror_mode": {
    "name": "ipython",
    "version": 3
   },
   "file_extension": ".py",
   "mimetype": "text/x-python",
   "name": "python",
   "nbconvert_exporter": "python",
   "pygments_lexer": "ipython3",
   "version": "3.12.0"
  }
 },
 "nbformat": 4,
 "nbformat_minor": 5
}
